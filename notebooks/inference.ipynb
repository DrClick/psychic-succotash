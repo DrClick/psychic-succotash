{
 "cells": [
  {
   "cell_type": "code",
   "execution_count": 1,
   "id": "0f3cf2bd-895b-46dd-88f5-15a1c2a64ff8",
   "metadata": {},
   "outputs": [],
   "source": [
    "import pickle\n",
    "import matplotlib.pyplot as plt\n",
    "import numpy as np\n",
    "from pydantic import BaseModel\n",
    "import tempfile\n",
    "import os\n",
    "import pretty_midi\n",
    "import matplotlib.pyplot as plt\n",
    "import matplotlib.patches as patches\n",
    "import numpy as np\n",
    "import uuid\n",
    "import pandas as pd\n",
    "\n",
    "# Import your trained models and utilities\n",
    "from classical_composer.data import generate_piano_roll, get_fixed_frame_indicies, generate_random_frame_indicies\n",
    "from classical_composer.frames import extract_frames\n",
    "from scipy.stats import mode\n",
    "\n",
    "\n",
    "from classical_composer.features.feature_extractor import FeatureExtractor\n",
    "from classical_composer.features import (\n",
    "    frequency_based_features,\n",
    "    harmonic_features,\n",
    "    higher_level_features,\n",
    "    pitch_based_features,\n",
    "    temporal_features,\n",
    "    velocity_based_features,\n",
    ")"
   ]
  },
  {
   "cell_type": "code",
   "execution_count": 2,
   "id": "6bf1da3f-1f45-4ce6-8192-7d86ef963a2b",
   "metadata": {},
   "outputs": [],
   "source": [
    "from unittest.mock import Mock\n",
    "# Create a mock settings object\n",
    "settings = Mock()\n",
    "settings.static_folder = \"../static\"\n",
    "settings.resource_folder = \"../resources\"\n",
    "\n",
    "with open(f\"{settings.resource_folder}/models/kmeans_model_run.pkl\", \"rb\") as f:\n",
    "    kmeans_model_run =  pickle.load(f)"
   ]
  },
  {
   "cell_type": "code",
   "execution_count": 3,
   "id": "497c2ded-b8ed-4c92-a677-b5cfee8d9a96",
   "metadata": {},
   "outputs": [],
   "source": [
    "\n",
    "def create_piano_roll_image(piano_roll, extracted_frames, frame_indices, fs=100):\n",
    "    \"\"\"\n",
    "    Plots the entire piano roll with shaded regions for frames and a 3x3 grid of extracted frames.\n",
    "\n",
    "    Args:\n",
    "        piano_roll: 2D NumPy array representing the piano roll.\n",
    "        extracted_frames: List of 2D NumPy arrays for the extracted frames.\n",
    "        frame_indices: List of tuples (start_index, end_index) for each frame.\n",
    "        fs: Frames per second for the piano roll.\n",
    "    \"\"\"\n",
    "    fig = plt.figure(figsize=(15, 10))\n",
    "\n",
    "    # Plot the full piano roll at the top\n",
    "    ax_main = plt.subplot2grid((1,1), (0, 0), colspan=4)\n",
    "    ax_main.imshow(piano_roll, aspect='auto', origin='lower', cmap='hot')\n",
    "    ax_main.set_title('Piano Roll with Highlighted Frames')\n",
    "    ax_main.set_ylabel('Pitch')\n",
    "    ax_main.set_xlabel(f\"Time (1/{fs}s)\")\n",
    "\n",
    "    # Add shaded areas and labels for each frame\n",
    "    colors = plt.cm.tab10(np.linspace(0, 1, len(frame_indices)))  # Generate unique colors\n",
    "    for idx, (start, end) in enumerate(frame_indices):\n",
    "        # Add a shaded rectangle\n",
    "        ax_main.add_patch(patches.Rectangle(\n",
    "            (start, 0),  # Bottom-left corner\n",
    "            end - start,  # Width\n",
    "            piano_roll.shape[0]/10,  # Height\n",
    "            linewidth=1,\n",
    "            edgecolor=colors[idx],\n",
    "            facecolor=colors[idx],\n",
    "            alpha=0.3  # Semi-transparent shading\n",
    "        ))\n",
    "\n",
    "        # Add a rotated label\n",
    "        label_x = (start + end) / 2\n",
    "        label_y = -piano_roll.shape[0]  # Bottom of the plot\n",
    "        ax_main.text(\n",
    "            label_x, label_y, f'Frame {idx+1}',\n",
    "            color=colors[idx], ha='center', va='bottom',\n",
    "            fontsize=10, rotation=90,  # Rotate 90 degrees\n",
    "            bbox=dict(facecolor='white', alpha=0.7)\n",
    "        )\n",
    "\n",
    "    # Generate a random UUID\n",
    "    file_UUID = uuid.uuid4()\n",
    "    main_filename = f\"{settings.static_folder}/{file_UUID}.png\"\n",
    "    plt.savefig(main_filename)\n",
    "    plt.close()\n",
    "\n",
    "\n",
    "    frame_files = []\n",
    "    # create each frame image\n",
    "    for idx, frame in enumerate(extracted_frames):\n",
    "        frame_filename = f\"{settings.static_folder}/{file_UUID}_frame_{idx}.png\"\n",
    "        frame_files.append({\n",
    "            \"indicies\": frame_indices[idx],\n",
    "            \"file_name\": frame_filename\n",
    "        })\n",
    "        plt.figure(figsize=(5, 3))\n",
    "        plt.imshow(piano_roll, aspect='auto', origin='lower', cmap='hot')\n",
    "        plt.axis('off')  # Turn off the axis\n",
    "        plt.subplots_adjust(left=0, right=1, top=1, bottom=0)  # Remove whitespace\n",
    "        plt.savefig(frame_filename)\n",
    "        plt.close()\n",
    "    \n",
    "    return {\n",
    "        \"file_name\": main_filename,\n",
    "        \"frames\": frame_files\n",
    "    }"
   ]
  },
  {
   "cell_type": "code",
   "execution_count": 4,
   "id": "a00151d0-d27b-49c2-bf0f-b3b862cbf30f",
   "metadata": {},
   "outputs": [
    {
     "name": "stdout",
     "output_type": "stream",
     "text": [
      "{'file_name': '../static/6c75fba3-6153-4fb2-a5e5-ec5eb89f1bc0.png', 'frames': [{'indicies': (0, 3000), 'file_name': '../static/6c75fba3-6153-4fb2-a5e5-ec5eb89f1bc0_frame_0.png'}, {'indicies': (39503, 42503), 'file_name': '../static/6c75fba3-6153-4fb2-a5e5-ec5eb89f1bc0_frame_1.png'}, {'indicies': (7171, 10171), 'file_name': '../static/6c75fba3-6153-4fb2-a5e5-ec5eb89f1bc0_frame_2.png'}, {'indicies': (35236, 38236), 'file_name': '../static/6c75fba3-6153-4fb2-a5e5-ec5eb89f1bc0_frame_3.png'}, {'indicies': (19470, 22470), 'file_name': '../static/6c75fba3-6153-4fb2-a5e5-ec5eb89f1bc0_frame_4.png'}, {'indicies': (12469, 15469), 'file_name': '../static/6c75fba3-6153-4fb2-a5e5-ec5eb89f1bc0_frame_5.png'}, {'indicies': (33205, 36205), 'file_name': '../static/6c75fba3-6153-4fb2-a5e5-ec5eb89f1bc0_frame_6.png'}, {'indicies': (6211, 9211), 'file_name': '../static/6c75fba3-6153-4fb2-a5e5-ec5eb89f1bc0_frame_7.png'}, {'indicies': (1139, 4139), 'file_name': '../static/6c75fba3-6153-4fb2-a5e5-ec5eb89f1bc0_frame_8.png'}, {'indicies': (18966, 21966), 'file_name': '../static/6c75fba3-6153-4fb2-a5e5-ec5eb89f1bc0_frame_9.png'}, {'indicies': (3984, 6984), 'file_name': '../static/6c75fba3-6153-4fb2-a5e5-ec5eb89f1bc0_frame_10.png'}, {'indicies': (15638, 18638), 'file_name': '../static/6c75fba3-6153-4fb2-a5e5-ec5eb89f1bc0_frame_11.png'}, {'indicies': (20454, 23454), 'file_name': '../static/6c75fba3-6153-4fb2-a5e5-ec5eb89f1bc0_frame_12.png'}, {'indicies': (24453, 27453), 'file_name': '../static/6c75fba3-6153-4fb2-a5e5-ec5eb89f1bc0_frame_13.png'}, {'indicies': (5156, 8156), 'file_name': '../static/6c75fba3-6153-4fb2-a5e5-ec5eb89f1bc0_frame_14.png'}, {'indicies': (19926, 22926), 'file_name': '../static/6c75fba3-6153-4fb2-a5e5-ec5eb89f1bc0_frame_15.png'}, {'indicies': (24892, 27892), 'file_name': '../static/6c75fba3-6153-4fb2-a5e5-ec5eb89f1bc0_frame_16.png'}, {'indicies': (28017, 31017), 'file_name': '../static/6c75fba3-6153-4fb2-a5e5-ec5eb89f1bc0_frame_17.png'}, {'indicies': (20229, 23229), 'file_name': '../static/6c75fba3-6153-4fb2-a5e5-ec5eb89f1bc0_frame_18.png'}, {'indicies': (25203, 28203), 'file_name': '../static/6c75fba3-6153-4fb2-a5e5-ec5eb89f1bc0_frame_19.png'}, {'indicies': (2671, 5671), 'file_name': '../static/6c75fba3-6153-4fb2-a5e5-ec5eb89f1bc0_frame_20.png'}, {'indicies': (5019, 8019), 'file_name': '../static/6c75fba3-6153-4fb2-a5e5-ec5eb89f1bc0_frame_21.png'}]}\n"
     ]
    }
   ],
   "source": [
    "\n",
    "#read in file and generate piano roll\n",
    "input_file_path = \"../resources/mars.mid\"\n",
    "input_piano_roll =  generate_piano_roll(input_file_path) \n",
    "#extract random frames\n",
    "fs=100\n",
    "frame_size=3000\n",
    "fixed_frames = get_fixed_frame_indicies(input_piano_roll.shape, frame_size=frame_size)\n",
    "\n",
    "# Extract random frames from the piano roll\n",
    "random_frames = generate_random_frame_indicies(\n",
    "    input_piano_roll.shape,\n",
    "    n_frames=20,\n",
    "    frame_size=frame_size,\n",
    "    buffer_size=5,\n",
    "    random_seed=59,\n",
    ")\n",
    "frame_indicies = [(int(start), int(end)) for start, end in fixed_frames + random_frames]\n",
    "extracted_frames = extract_frames(input_piano_roll, frame_indicies)\n",
    "# # Plot quality check\n",
    "piano_roll_image = create_piano_roll_image(input_piano_roll, extracted_frames, frame_indicies, fs=100)\n",
    "print(piano_roll_image)"
   ]
  },
  {
   "cell_type": "code",
   "execution_count": 5,
   "id": "962838e5-3eba-41ba-9d7e-09b907c7cb2b",
   "metadata": {},
   "outputs": [
    {
     "name": "stdout",
     "output_type": "stream",
     "text": [
      "unknown\n"
     ]
    }
   ],
   "source": [
    "kmeans = kmeans_model_run[\"model\"]\n",
    "scaler = kmeans_model_run[\"scaler\"]\n",
    "cluster_mapping = kmeans_model_run[\"cluster_mapping\"]\n",
    "threshold = kmeans_model_run[\"threshold\"]\n",
    "\n",
    "feature_columns = [\n",
    "        \"pitch_entropy\",\n",
    "        \"dominant_pitch\",\n",
    "        \"avg_velocity\",\n",
    "        \"spectral_bandwidth\"\n",
    "]\n",
    "\n",
    "feature_functions = [\n",
    "        pitch_based_features,\n",
    "        velocity_based_features,\n",
    "        temporal_features,\n",
    "        harmonic_features,\n",
    "        frequency_based_features,\n",
    "        higher_level_features,\n",
    "    ]\n",
    "featureExtractor = FeatureExtractor(feature_functions)\n",
    "\n",
    "\n",
    "predictions = []\n",
    "for idx, frame in enumerate(extracted_frames):\n",
    "    features = featureExtractor.extract_all_features(frame)\n",
    "    features[\"frame_id\"] = idx\n",
    "    features_df = pd.DataFrame(features, index=[\"frame_id\"])[feature_columns]\n",
    "\n",
    "    #normalize features\n",
    "    X = scaler.transform(features_df)    \n",
    "    distances = kmeans.transform(X)  # Distance to each centroid\n",
    "    closest_clusters = np.argmin(distances, axis=1)  # Index of closest cluster\n",
    "    \n",
    "    # Map clusters to composers\n",
    "    prediction = [cluster for cluster in closest_clusters][0]\n",
    "    if distances[0,closest_clusters] > threshold:\n",
    "        prediction = -1\n",
    "    else:\n",
    "        precition = closest_clusters[0]\n",
    "    predictions.append(prediction)\n",
    "\n",
    "final_result = mode(predictions)\n",
    "final_class = cluster_mapping.get(final_result, \"unknown\")\n",
    "print(final_class)"
   ]
  },
  {
   "cell_type": "code",
   "execution_count": 7,
   "id": "eee5cf10-46ca-4ba2-a268-27e80877c286",
   "metadata": {},
   "outputs": [
    {
     "name": "stderr",
     "output_type": "stream",
     "text": [
      "I0000 00:00:1738070998.556597    5037 gpu_device.cc:2022] Created device /job:localhost/replica:0/task:0/device:GPU:0 with 5578 MB memory:  -> device: 0, name: NVIDIA GeForce RTX 3070 Ti Laptop GPU, pci bus id: 0000:01:00.0, compute capability: 8.6\n"
     ]
    }
   ],
   "source": [
    "import tensorflow as tf\n",
    "cnn_model = tf.keras.models.load_model(\"../resources/models/cnn_model.keras\")"
   ]
  },
  {
   "cell_type": "code",
   "execution_count": null,
   "id": "46876c7f-0960-4bea-a6b3-35b03eeb3a56",
   "metadata": {},
   "outputs": [],
   "source": []
  }
 ],
 "metadata": {
  "kernelspec": {
   "display_name": "Python 3 (ipykernel)",
   "language": "python",
   "name": "python3"
  },
  "language_info": {
   "codemirror_mode": {
    "name": "ipython",
    "version": 3
   },
   "file_extension": ".py",
   "mimetype": "text/x-python",
   "name": "python",
   "nbconvert_exporter": "python",
   "pygments_lexer": "ipython3",
   "version": "3.9.5"
  }
 },
 "nbformat": 4,
 "nbformat_minor": 5
}
